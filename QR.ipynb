{
 "cells": [
  {
   "cell_type": "code",
   "execution_count": 3,
   "metadata": {
    "collapsed": false
   },
   "outputs": [
    {
     "data": {
      "text/plain": [
       "6×4 Array{Float64,2}:\n",
       " -1.44117    1.42117    0.0748813    0.239022\n",
       " -1.58922    0.80615    0.0415372   -0.915414\n",
       "  1.31331   -0.447252  -1.19947     -0.509232\n",
       "  0.261757   0.552922   1.69574      0.795009\n",
       "  0.747257   2.07018    0.00100835   0.219961\n",
       "  0.704862  -0.743237  -0.910831    -0.387229"
      ]
     },
     "execution_count": 3,
     "metadata": {},
     "output_type": "execute_result"
    }
   ],
   "source": [
    "# generate random data matrix\n",
    "n,d = 6,4\n",
    "X = randn(n,d)\n",
    "\n",
    "# optional: give it linearly dependent columns\n",
    "# X[:,3] = X[:,2]"
   ]
  },
  {
   "cell_type": "markdown",
   "metadata": {},
   "source": [
    "# Understanding the pseudoinverse"
   ]
  },
  {
   "cell_type": "code",
   "execution_count": 5,
   "metadata": {
    "collapsed": false
   },
   "outputs": [
    {
     "data": {
      "text/plain": [
       "4×6 Array{Float64,2}:\n",
       " -0.322062  -0.000823942   0.203594    0.189602    0.235808    0.0586256\n",
       "  0.112549   0.111324      0.0668947   0.0218964   0.359334   -0.0326   \n",
       " -0.461371   0.387708     -0.0651432   0.495276   -0.0202059  -0.110306 \n",
       "  0.68354   -0.965424     -0.270965   -0.234169   -0.113386   -0.0670894"
      ]
     },
     "execution_count": 5,
     "metadata": {},
     "output_type": "execute_result"
    }
   ],
   "source": [
    "# form pseudoinverse\n",
    "Xd = pinv(X)"
   ]
  },
  {
   "cell_type": "code",
   "execution_count": 7,
   "metadata": {
    "collapsed": false
   },
   "outputs": [
    {
     "data": {
      "text/plain": [
       "4×4 Array{Float64,2}:\n",
       "  1.0           2.28983e-16   7.63278e-17   6.93889e-18\n",
       "  1.31839e-16   1.0           4.16334e-17  -1.73472e-17\n",
       "  2.08167e-16   4.85723e-16   1.0          -1.38778e-16\n",
       " -5.55112e-17  -7.07767e-16  -3.60822e-16   1.0        "
      ]
     },
     "execution_count": 7,
     "metadata": {},
     "output_type": "execute_result"
    }
   ],
   "source": [
    "# X†X ≈ I_d\n",
    "Xd*X"
   ]
  },
  {
   "cell_type": "code",
   "execution_count": 8,
   "metadata": {
    "collapsed": false
   },
   "outputs": [
    {
     "data": {
      "text/plain": [
       "6×6 Array{Float64,2}:\n",
       "  0.752931   -0.0423269  -0.267989   -0.261014    0.142221   -0.155115 \n",
       " -0.0423269   0.990921   -0.0242887  -0.0487329   0.0178808  -0.0626168\n",
       " -0.267989   -0.0242887   0.453585   -0.235606    0.230953    0.258047 \n",
       " -0.261014   -0.0487329  -0.235606    0.715427    0.136002   -0.243066 \n",
       "  0.142221    0.0178808   0.230953    0.136002    0.895135   -0.0385477\n",
       " -0.155115   -0.0626168   0.258047   -0.243066   -0.0385477   0.192002 "
      ]
     },
     "execution_count": 8,
     "metadata": {},
     "output_type": "execute_result"
    }
   ],
   "source": [
    "# XX† !≈ I_n\n",
    "X*Xd"
   ]
  },
  {
   "cell_type": "code",
   "execution_count": 2,
   "metadata": {
    "collapsed": false
   },
   "outputs": [
    {
     "data": {
      "text/plain": [
       "([-0.159412 0.172883 -0.254497 0.225331; 0.160357 -0.233616 0.810417 0.130287; … ; -0.61721 0.336019 0.417129 0.379625; 0.746499 0.259308 0.125982 0.315526], [-1.10406 -0.913537 0.681803 -1.83377; 0.0 -2.01923 -1.08725 0.771696; 0.0 0.0 2.22676 -0.208853; 0.0 0.0 0.0 0.488748])"
      ]
     },
     "execution_count": 2,
     "metadata": {},
     "output_type": "execute_result"
    }
   ],
   "source": [
    "Q,R = qr(X)"
   ]
  },
  {
   "cell_type": "code",
   "execution_count": 3,
   "metadata": {
    "collapsed": false
   },
   "outputs": [
    {
     "data": {
      "text/plain": [
       "6×4 Array{Float64,2}:\n",
       " -0.159412    0.172883  -0.254497  0.225331\n",
       "  0.160357   -0.233616   0.810417  0.130287\n",
       "  0.0762577   0.30032   -0.246141  0.650934\n",
       " -0.0696443  -0.803239  -0.16734   0.51465 \n",
       " -0.61721     0.336019   0.417129  0.379625\n",
       "  0.746499    0.259308   0.125982  0.315526"
      ]
     },
     "execution_count": 3,
     "metadata": {},
     "output_type": "execute_result"
    }
   ],
   "source": [
    "Q"
   ]
  },
  {
   "cell_type": "code",
   "execution_count": 4,
   "metadata": {
    "collapsed": false
   },
   "outputs": [
    {
     "data": {
      "text/plain": [
       "4×4 Array{Float64,2}:\n",
       " -1.10406  -0.913537   0.681803  -1.83377 \n",
       "  0.0      -2.01923   -1.08725    0.771696\n",
       "  0.0       0.0        2.22676   -0.208853\n",
       "  0.0       0.0        0.0        0.488748"
      ]
     },
     "execution_count": 4,
     "metadata": {},
     "output_type": "execute_result"
    }
   ],
   "source": [
    "R"
   ]
  },
  {
   "cell_type": "code",
   "execution_count": 5,
   "metadata": {
    "collapsed": false
   },
   "outputs": [
    {
     "data": {
      "text/plain": [
       "4×4 Array{Float64,2}:\n",
       "  1.0          -5.55112e-17  1.38778e-17  2.77556e-17\n",
       " -5.55112e-17   1.0          2.08167e-16  2.77556e-17\n",
       "  1.38778e-17   2.08167e-16  1.0          1.45717e-16\n",
       "  2.77556e-17   2.77556e-17  1.45717e-16  1.0        "
      ]
     },
     "execution_count": 5,
     "metadata": {},
     "output_type": "execute_result"
    }
   ],
   "source": [
    "Q'*Q"
   ]
  },
  {
   "cell_type": "code",
   "execution_count": 6,
   "metadata": {
    "collapsed": true
   },
   "outputs": [],
   "source": [
    "# form data from noisy linear model\n",
    "w♮ = randn(d)\n",
    "y = X*w♮ + .1*randn(n);"
   ]
  },
  {
   "cell_type": "code",
   "execution_count": 7,
   "metadata": {
    "collapsed": false
   },
   "outputs": [
    {
     "data": {
      "text/plain": [
       "4-element Array{Float64,1}:\n",
       "  0.961485 \n",
       "  0.0712542\n",
       "  0.577587 \n",
       " -0.606435 "
      ]
     },
     "execution_count": 7,
     "metadata": {},
     "output_type": "execute_result"
    }
   ],
   "source": [
    "# solve least squares problem to estimate w\n",
    "w = R \\ (Q'*y)"
   ]
  },
  {
   "cell_type": "code",
   "execution_count": 8,
   "metadata": {
    "collapsed": false
   },
   "outputs": [
    {
     "data": {
      "text/plain": [
       "0.08173606441352375"
      ]
     },
     "execution_count": 8,
     "metadata": {},
     "output_type": "execute_result"
    }
   ],
   "source": [
    "# how good is our estimate?\n",
    "norm(w - w♮)"
   ]
  },
  {
   "cell_type": "code",
   "execution_count": 9,
   "metadata": {
    "collapsed": false
   },
   "outputs": [
    {
     "data": {
      "text/plain": [
       "0.000645947844624752"
      ]
     },
     "execution_count": 9,
     "metadata": {},
     "output_type": "execute_result"
    }
   ],
   "source": [
    "# compute mean square error\n",
    "mean((y - X*w).^2)"
   ]
  },
  {
   "cell_type": "code",
   "execution_count": 10,
   "metadata": {
    "collapsed": false
   },
   "outputs": [
    {
     "data": {
      "text/plain": [
       "2.2487155582650125e-15"
      ]
     },
     "execution_count": 10,
     "metadata": {},
     "output_type": "execute_result"
    }
   ],
   "source": [
    "# let's use the shorthand\n",
    "w_backslash = X \\ y\n",
    "norm(w_backslash - w)"
   ]
  },
  {
   "cell_type": "code",
   "execution_count": 11,
   "metadata": {
    "collapsed": false
   },
   "outputs": [
    {
     "data": {
      "text/plain": [
       "4-element Array{Float64,1}:\n",
       "  0.961485 \n",
       "  0.0712542\n",
       "  0.577587 \n",
       " -0.606435 "
      ]
     },
     "execution_count": 11,
     "metadata": {},
     "output_type": "execute_result"
    }
   ],
   "source": [
    "w_backslash"
   ]
  }
 ],
 "metadata": {
  "kernelspec": {
   "display_name": "Julia 0.6.0",
   "language": "julia",
   "name": "julia-0.6"
  },
  "language_info": {
   "file_extension": ".jl",
   "mimetype": "application/julia",
   "name": "julia",
   "version": "0.6.0"
  }
 },
 "nbformat": 4,
 "nbformat_minor": 0
}
